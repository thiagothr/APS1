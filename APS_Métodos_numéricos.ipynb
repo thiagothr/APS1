{
  "cells": [
    {
      "cell_type": "markdown",
      "metadata": {
        "id": "view-in-github",
        "colab_type": "text"
      },
      "source": [
        "<a href=\"https://colab.research.google.com/github/thiagothr/APS1/blob/main/APS_M%C3%A9todos_num%C3%A9ricos.ipynb\" target=\"_parent\"><img src=\"https://colab.research.google.com/assets/colab-badge.svg\" alt=\"Open In Colab\"/></a>"
      ]
    },
    {
      "cell_type": "markdown",
      "metadata": {
        "id": "ZbqrDpN9ga9R"
      },
      "source": [
        "**Questão 01: (2,0 pontos) Dada a equação f(x) = x4- x3- x2 + x +8 = 0, obtenha o valor**\n",
        "**aproximado da raiz. Utilizando o método da bissecção no intervalo [-2,5; 2,5]\n",
        " com precisão 1E-06.**\n",
        "\n",
        "\n",
        "**Absoluto:**\n",
        "\n",
        "**i. abs(f(x))<= 1E-06**\n",
        "\n",
        "**ii. abs(f(b)-f(a)) <= 1E-06**\n",
        "\n",
        "**iii. abs(b-a) <= 1E-06**\n",
        "\n",
        "**Relativo:**\n",
        "\n",
        "**i. abs((f(b)-f(a))/f(b)) <= 1E-06**\n",
        "\n",
        "**ii. abs((b-a)/b) <= 1E-06**\n"
      ]
    },
    {
      "cell_type": "code",
      "execution_count": null,
      "metadata": {
        "colab": {
          "base_uri": "https://localhost:8080/",
          "height": 990
        },
        "id": "TL7lFZOohV8t",
        "outputId": "440fe516-e7ca-44ac-8bb2-16e87a7353e2"
      },
      "outputs": [
        {
          "output_type": "stream",
          "name": "stdout",
          "text": [
            "O valor de f(x) = x^4 - x^3 - x^2 + x + x em x = a é 43.4375\n",
            "O valor de f(x) = x^4 - x^3 - x^2 + x + x em x = b é 22.1875\n",
            "O valor de k é: \u001b[36m22.253496664211536\u001b[m e aproximando: \u001b[33m23\u001b[m\n",
            "O valor de f(x) = x^4 - x^3 - x^2 + x + x em x = a é 43.4375\n",
            "O valor de f(x) = x^4 - x^3 - x^2 + x + x em x = b é 22.1875\n",
            "A função não tem solução real no intervalo considerado.\n",
            "A função não tem solução real no intervalo considerado.\n",
            "A função não tem solução real no intervalo considerado.\n",
            "A função não tem solução real no intervalo considerado.\n",
            "A função não tem solução real no intervalo considerado.\n",
            "A função não tem solução real no intervalo considerado.\n",
            "A função não tem solução real no intervalo considerado.\n",
            "A função não tem solução real no intervalo considerado.\n",
            "A função não tem solução real no intervalo considerado.\n",
            "A função não tem solução real no intervalo considerado.\n",
            "A função não tem solução real no intervalo considerado.\n",
            "A função não tem solução real no intervalo considerado.\n",
            "A função não tem solução real no intervalo considerado.\n",
            "A função não tem solução real no intervalo considerado.\n",
            "A função não tem solução real no intervalo considerado.\n",
            "A função não tem solução real no intervalo considerado.\n",
            "A função não tem solução real no intervalo considerado.\n",
            "A função não tem solução real no intervalo considerado.\n",
            "A função não tem solução real no intervalo considerado.\n",
            "A função não tem solução real no intervalo considerado.\n",
            "A função não tem solução real no intervalo considerado.\n",
            "Quantidade de interação até convergir: 22\n",
            "i.Erro absoluto de aproximação da função: 22.18745142225572\n",
            "ii. Erro absoluto abs(f(b) - f(a)): 9.715540613797202e-05\n",
            "iii. Erro absoluto abs(b - a): 2.384185791015625e-06\n",
            "i. Erro relativo abs((b - a)/b): 9.536752259018191e-07\n",
            "ii. Erro relativo abs((f(b) - f(a))/f(b) ): 4.378835206218458e-06\n",
            "Resultado encontrado: 2.4999988079071045\n",
            "Valores encontrado a cada iteração: [0.0, 1.25, 1.875, 2.1875, 2.34375, 2.421875, 2.4609375, 2.48046875, 2.490234375, 2.4951171875, 2.49755859375, 2.498779296875, 2.4993896484375, 2.49969482421875, 2.499847412109375, 2.4999237060546875, 2.4999618530273438, 2.499980926513672, 2.499990463256836, 2.499995231628418, 2.499997615814209, 2.4999988079071045]\n"
          ]
        },
        {
          "output_type": "display_data",
          "data": {
            "text/plain": [
              "<Figure size 560x420 with 1 Axes>"
            ],
            "image/png": "[encoded data removed]"
          },
          "metadata": {
            "needs_background": "light"
          }
        }
      ],
      "source": [
        "import numpy as np\n",
        "import math as mth\n",
        "import matplotlib.pyplot as plt\n",
        "\n",
        "\n",
        "a = -2.5\n",
        "b = 2.5\n",
        "def f(x):\n",
        "  f = x**4 - x**3 - x**2 + x + x\n",
        "  return(f)\n",
        "print(\"O valor de f(x) = x^4 - x^3 - x^2 + x + x em x = a é\", f(a))\n",
        "print(\"O valor de f(x) = x^4 - x^3 - x^2 + x + x em x = b é\", f(b))\n",
        "\n",
        "\n",
        "#mais abaixo no outro código contém a resolução deste problema do k\n",
        "\n",
        "# k0 = (math.log(x, 10) - math.log(0.000001, 10)) / math.log(2, 10)\n",
        "# print(f'O valor de k0 é: \\033[36m{k0}\\033[m e aproximando: \\033[33m{math.ceil(k0)}\\033[m') # referente ao [i. abs(f(x)) <= 1E-06] - APS\n",
        "\n",
        "k = (mth.log(b - a, 10) - mth.log(0.000001, 10)) / mth.log(2, 10)\n",
        "print(f'O valor de k é: \\033[36m{k}\\033[m e aproximando: \\033[33m{mth.ceil(k)}\\033[m') # referente ao [iii. abs(b-a) <= 1E-06] - APS\n",
        "\n",
        "\n",
        "\n",
        "a = -2.5\n",
        "b = 2.5\n",
        "def f(x):\n",
        "  f = x**4 - x**3 - x**2 + x + x\n",
        "  return(f)\n",
        "print(\"O valor de f(x) = x^4 - x^3 - x^2 + x + x em x = a é\", f(a))\n",
        "print(\"O valor de f(x) = x^4 - x^3 - x^2 + x + x em x = b é\", f(b))\n",
        "\n",
        "p = (a+b)/2\n",
        "TOL = 1e-6\n",
        "fp=f(p)\n",
        "qtd_itr=1\n",
        "ps_encontrados = [p]\n",
        "while np.abs((b - a)/b) > TOL:\n",
        "    if f(b)*f(a) > 0: 0\n",
        "    print(\"A função não tem solução real no intervalo considerado.\")\n",
        "    if f(b)*fp < 0: b = p\n",
        "    else: a = p\n",
        "    qtd_itr = qtd_itr + 1\n",
        "    p = (a + b)/2\n",
        "    ps_encontrados.append(p)\n",
        "    fp = f(p)\n",
        "print(\"Quantidade de interação até convergir:\", qtd_itr)\n",
        "print(\"i.Erro absoluto de aproximação da função:\", np.abs(fp))\n",
        "print(\"ii. Erro absoluto abs(f(b) - f(a)):\", np.abs(f(b)-f(a)) )\n",
        "print(\"iii. Erro absoluto abs(b - a):\", np.abs(b-a) )\n",
        "print(\"i. Erro relativo abs((b - a)/b):\", np.abs((b-a)/a) )\n",
        "print(\"ii. Erro relativo abs((f(b) - f(a))/f(b) ):\", np.abs((f(b)-f(a))/f(b)) )\n",
        "print(\"Resultado encontrado:\", p)\n",
        "print(\"Valores encontrado a cada iteração:\", ps_encontrados)\n",
        "\n",
        "\n",
        "\n",
        "x = np.linspace(-2.5, 2.5) #Retorna números com espaçamento uniforme em um intervalo especificado.\n",
        "# Usar o intervalo ao qual quer determinar a soução\n",
        "y = f(x) # valores da função avaliada nos pontos x\n",
        "plt.figure(dpi=70, figsize=(8, 6)) # Crie uma nova figura ou ative uma figura existente.\n",
        "# figsizw(l,h) largura e altura em polegadas. dpi=resolução da figura em polegadas\n",
        "plt.title(\"Valor da função de f(x) = x^4 - x^3 - x^2 + x + x\")\n",
        "plt.plot(x,y)\n",
        "plt.hlines(y=0, xmin=-5, xmax=5) # traça a linha do eixo x\n",
        "plt.vlines(x=0, ymin=-5, ymax=20) # traça a linha do eixo y\n",
        "plt.ylabel(\"f(x)\") # título do eixo y\n",
        "plt.show() #Exiba todas as figuras abertas.\n",
        "\n",
        "\n"
      ]
    },
    {
      "cell_type": "markdown",
      "metadata": {
        "id": "wQdqa-QWi0o_"
      },
      "source": [
        "**Questão 04: (2,0 pontos) Sejam x=[1; 3; 5; -6; 6] e sua aproximação x̄=[2; -4; 6; 8; -7].**\n",
        "**Calcule o erro absoluto e o erro relativo (usar x como referência).**\n",
        "**Observação: norma2 = distância euclidiana = sqrt ((x2\n",
        "1+ x\n",
        "2\n",
        "2 +... + x2\n",
        "n)\n",
        "2\n",
        ")**"
      ]
    },
    {
      "cell_type": "code",
      "execution_count": null,
      "metadata": {
        "colab": {
          "base_uri": "https://localhost:8080/"
        },
        "id": "V_ILMnacjArq",
        "outputId": "3f91e326-c670-4084-8171-7c73a4a8b590"
      },
      "outputs": [
        {
          "output_type": "stream",
          "name": "stdout",
          "text": [
            "Vetor x =  [ 1  3  5 -6  6]\n",
            "Vetor de aproximação para x =  [ 2 -4  6  8 -7]\n",
            "O erro absotuto de aproximação é: 20.396078054371138\n",
            "O erro relativo de aproximação é: 1.9717632888584062\n"
          ]
        }
      ],
      "source": [
        "import numpy as np\n",
        "from numpy.linalg import norm # importando a função norma\n",
        "\n",
        "x = np.array( (1, 3, 5, -6, 6)) # Vetor x\n",
        "xbar = np.array((2, -4, 6, 8, -7)) # vetor de aproximação para x\n",
        "print(\"Vetor x = \", x)\n",
        "print(\"Vetor de aproximação para x = \", xbar)\n",
        "erroAbsoluto = np.sqrt(np.sum(np.square(x -xbar) ) )\n",
        "erroRelativo = np.sqrt(np.sum(np.square(x -xbar) ))/norm(x)\n",
        "\n",
        "print(\"O erro absotuto de aproximação é:\", erroAbsoluto)\n",
        "print(\"O erro relativo de aproximação é:\", erroRelativo)"
      ]
    }
  ],
  "metadata": {
    "colab": {
      "provenance": [],
      "authorship_tag": "ABX9TyMFeOQxtHxEeVe52SSYoKms",
      "include_colab_link": true
    },
    "kernelspec": {
      "display_name": "Python 3",
      "name": "python3"
    },
    "language_info": {
      "name": "python"
    }
  },
  "nbformat": 4,
  "nbformat_minor": 0
}